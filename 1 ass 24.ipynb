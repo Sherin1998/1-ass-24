{
 "cells": [
  {
   "cell_type": "markdown",
   "metadata": {},
   "source": [
    "#1\n",
    "\n",
    "functions defined by lambda is same as regular function expression except it does not have function name.It can accept one or multiple variables but there can only 1 expression which can be exececuted by lambda.To invoke the lambda expression we assign it to a variable instead of function name and no return is required. It is used to simplify the line of code and used in areaes where function have single expression.The keyword lambda evalutes the expression and binds the value to the object\n",
    "\n",
    "The functions using def can have any number of expressions can return muliple values.The funcions will have function names along with definition and call statements.The def statement has no value, and creates a function object and binds it to a name."
   ]
  },
  {
   "cell_type": "markdown",
   "metadata": {},
   "source": [
    "#2\n",
    "\n",
    "The amount of code written for simple functions reduces.There is no need to create function name and return statements.List manipulation gets easier with lambda.It can be used with map(),filter(),reduce() for list manipulation easily."
   ]
  },
  {
   "cell_type": "code",
   "execution_count": null,
   "metadata": {},
   "outputs": [],
   "source": [
    "#3\n",
    "\n",
    "map() takes the iterable and function as parametres and returns a new list which applies the function to the existing list.Map applies to every element in list\n",
    "Reduce() belongs to a module called functools and we need to import the module.Reduce() takes the function,squence and seed value and returns seed value if list is empty.Else it applies function to list and returns the value.\n",
    "filter() takes a sequence and filter it based on conditiion.It is used instead of functions having list as parameter and execute based on condition.Filter applies to every element in list and returns those elemenents where condition is true. "
   ]
  },
  {
   "cell_type": "markdown",
   "metadata": {},
   "source": [
    "#4\n",
    "\n",
    "Use relevent variable and function names in such a way that it reflects the task done.Use docstrings for the convenience of reader and  overall presentation of code.Use intendations to seperate each modules of code and make it readable.\n",
    "If a single line code is too long,wrap the code and do not exceed 79 characters.Comments for each line of code makes it understandable to user and should be complete sentences.Functions in classes should have self as initial parameter."
   ]
  },
  {
   "cell_type": "markdown",
   "metadata": {},
   "source": [
    "#5\n",
    "\n",
    "Those function which calls itself during execution arerecursive function.The function executes until the iteration is over a condition is provided by the user.During execution,the function allocates memory for the copy of function with different parameter and gets stored.They can reduce the amount of code and replace loop iteration.Loops require the number of times the statement is to be executed,but recursion does not require that.Every recursive program must have a base case to make sure that the function will terminate at some point.\n",
    "Recursive function has base case and recursive call."
   ]
  },
  {
   "cell_type": "markdown",
   "metadata": {},
   "source": [
    "#6\n",
    "\n",
    "Annotations are user defined data which add information to functions.It is a optional paramter which gives additional information regarding parameters and return type.These are provided inside the paranthesis after each parameters followed by data type.These are evaluated at compile time and have no life in pyhtons runtime.If we need to specify the type of return type it is mentioned outside the paranthesis."
   ]
  },
  {
   "cell_type": "markdown",
   "metadata": {},
   "source": [
    "#7\n",
    "\n",
    "Return statement can return the computed value to the function call and print it.Return keyword returns the value\n",
    "We can print the statement inside function without returning it.There is no need to assign a variable to store the returned value.\n",
    "When functions are defined inside class,class objects are used to access the function.\n",
    "In generators which are similar to normal functions,yield statement returns  values to the caller.Unlike normal functions,only 1 memory is allocated and faster computation. "
   ]
  }
 ],
 "metadata": {
  "kernelspec": {
   "display_name": "Python 3",
   "language": "python",
   "name": "python3"
  },
  "language_info": {
   "codemirror_mode": {
    "name": "ipython",
    "version": 3
   },
   "file_extension": ".py",
   "mimetype": "text/x-python",
   "name": "python",
   "nbconvert_exporter": "python",
   "pygments_lexer": "ipython3",
   "version": "3.8.3"
  }
 },
 "nbformat": 4,
 "nbformat_minor": 4
}
